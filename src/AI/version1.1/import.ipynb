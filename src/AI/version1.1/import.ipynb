{
 "cells": [
  {
   "cell_type": "code",
   "execution_count": 1,
   "metadata": {},
   "outputs": [],
   "source": [
    "import pymongo\n",
    "from pandas.io.json import json_normalize\n",
    "import pandas as pd\n",
    "import datetime\n",
    "import io"
   ]
  },
  {
   "cell_type": "code",
   "execution_count": null,
   "metadata": {},
   "outputs": [],
   "source": [
    "#from sklearn.preprocessing import RobustScaler\n",
    "import plotly.plotly as py\n",
    "import plotly.graph_objs as go\n",
    "import plotly\n",
    "plotly.tools.set_credentials_file(username='ecorreig', api_key='lr8juh00af')\n",
    "import cufflinks as cf\n",
    "import pandas as pd\n",
    "import numpy as np"
   ]
  },
  {
   "cell_type": "code",
   "execution_count": 21,
   "metadata": {},
   "outputs": [],
   "source": [
    "def data_loop():\n",
    "    first_date = pd.to_datetime(\"2018-03-20 12:36:00\", infer_datetime_format=True)\n",
    "    client = pymongo.MongoClient(\"mongodb://localhost:27017/\")\n",
    "    db = client.aggregated\n",
    "    collection = db.binance_aggregation\n",
    "    \n",
    "    more = True\n",
    "    date = first_date\n",
    "    i = 1\n",
    "    while more:\n",
    "        end_date = date + datetime.timedelta(days = 30)\n",
    "        data = list(collection.find({\"date\" : { '$gte': date, '$lt': end_date}}))\n",
    "        df = json_normalize(data).transpose()\n",
    "        df.index = df[\"date\"]\n",
    "        df = df.drop([\"_id\", \"date\"], axis = 1).transpose()\n",
    "        df.to_csv(\"new_data_\" + str(i) + \".csv\")\n",
    "        \n",
    "        if df.shape[1]<40000:\n",
    "            more = False\n",
    "        \n",
    "        date = end_date\n",
    "        i += 1"
   ]
  },
  {
   "cell_type": "code",
   "execution_count": 22,
   "metadata": {},
   "outputs": [
    {
     "ename": "KeyError",
     "evalue": "'date'",
     "output_type": "error",
     "traceback": [
      "\u001b[1;31m---------------------------------------------------------------------------\u001b[0m",
      "\u001b[1;31mKeyError\u001b[0m                                  Traceback (most recent call last)",
      "\u001b[1;32mC:\\ProgramData\\Anaconda3\\envs\\crypto_v1\\lib\\site-packages\\pandas\\core\\indexes\\base.py\u001b[0m in \u001b[0;36mget_loc\u001b[1;34m(self, key, method, tolerance)\u001b[0m\n\u001b[0;32m   2441\u001b[0m             \u001b[1;32mtry\u001b[0m\u001b[1;33m:\u001b[0m\u001b[1;33m\u001b[0m\u001b[0m\n\u001b[1;32m-> 2442\u001b[1;33m                 \u001b[1;32mreturn\u001b[0m \u001b[0mself\u001b[0m\u001b[1;33m.\u001b[0m\u001b[0m_engine\u001b[0m\u001b[1;33m.\u001b[0m\u001b[0mget_loc\u001b[0m\u001b[1;33m(\u001b[0m\u001b[0mkey\u001b[0m\u001b[1;33m)\u001b[0m\u001b[1;33m\u001b[0m\u001b[0m\n\u001b[0m\u001b[0;32m   2443\u001b[0m             \u001b[1;32mexcept\u001b[0m \u001b[0mKeyError\u001b[0m\u001b[1;33m:\u001b[0m\u001b[1;33m\u001b[0m\u001b[0m\n",
      "\u001b[1;32mpandas\\_libs\\index.pyx\u001b[0m in \u001b[0;36mpandas._libs.index.IndexEngine.get_loc (pandas\\_libs\\index.c:5280)\u001b[1;34m()\u001b[0m\n",
      "\u001b[1;32mpandas\\_libs\\index.pyx\u001b[0m in \u001b[0;36mpandas._libs.index.IndexEngine.get_loc (pandas\\_libs\\index.c:5126)\u001b[1;34m()\u001b[0m\n",
      "\u001b[1;32mpandas\\_libs\\hashtable_class_helper.pxi\u001b[0m in \u001b[0;36mpandas._libs.hashtable.PyObjectHashTable.get_item (pandas\\_libs\\hashtable.c:20523)\u001b[1;34m()\u001b[0m\n",
      "\u001b[1;32mpandas\\_libs\\hashtable_class_helper.pxi\u001b[0m in \u001b[0;36mpandas._libs.hashtable.PyObjectHashTable.get_item (pandas\\_libs\\hashtable.c:20477)\u001b[1;34m()\u001b[0m\n",
      "\u001b[1;31mKeyError\u001b[0m: 'date'",
      "\nDuring handling of the above exception, another exception occurred:\n",
      "\u001b[1;31mKeyError\u001b[0m                                  Traceback (most recent call last)",
      "\u001b[1;32m<ipython-input-22-ab1ea0ee9c2e>\u001b[0m in \u001b[0;36m<module>\u001b[1;34m\u001b[0m\n\u001b[1;32m----> 1\u001b[1;33m \u001b[0mdata_loop\u001b[0m\u001b[1;33m(\u001b[0m\u001b[1;33m)\u001b[0m\u001b[1;33m\u001b[0m\u001b[0m\n\u001b[0m",
      "\u001b[1;32m<ipython-input-21-e13f446bfd75>\u001b[0m in \u001b[0;36mdata_loop\u001b[1;34m()\u001b[0m\n\u001b[0;32m     12\u001b[0m         \u001b[0mdata\u001b[0m \u001b[1;33m=\u001b[0m \u001b[0mlist\u001b[0m\u001b[1;33m(\u001b[0m\u001b[0mcollection\u001b[0m\u001b[1;33m.\u001b[0m\u001b[0mfind\u001b[0m\u001b[1;33m(\u001b[0m\u001b[1;33m{\u001b[0m\u001b[1;34m\"date\"\u001b[0m \u001b[1;33m:\u001b[0m \u001b[1;33m{\u001b[0m \u001b[1;34m'$gte'\u001b[0m\u001b[1;33m:\u001b[0m \u001b[0mdate\u001b[0m\u001b[1;33m,\u001b[0m \u001b[1;34m'$lt'\u001b[0m\u001b[1;33m:\u001b[0m \u001b[0mend_date\u001b[0m\u001b[1;33m}\u001b[0m\u001b[1;33m}\u001b[0m\u001b[1;33m)\u001b[0m\u001b[1;33m)\u001b[0m\u001b[1;33m\u001b[0m\u001b[0m\n\u001b[0;32m     13\u001b[0m         \u001b[0mdf\u001b[0m \u001b[1;33m=\u001b[0m \u001b[0mjson_normalize\u001b[0m\u001b[1;33m(\u001b[0m\u001b[0mdata\u001b[0m\u001b[1;33m)\u001b[0m\u001b[1;33m.\u001b[0m\u001b[0mtranspose\u001b[0m\u001b[1;33m(\u001b[0m\u001b[1;33m)\u001b[0m\u001b[1;33m\u001b[0m\u001b[0m\n\u001b[1;32m---> 14\u001b[1;33m         \u001b[0mdf\u001b[0m\u001b[1;33m.\u001b[0m\u001b[0mindex\u001b[0m \u001b[1;33m=\u001b[0m \u001b[0mdf\u001b[0m\u001b[1;33m[\u001b[0m\u001b[1;34m\"date\"\u001b[0m\u001b[1;33m]\u001b[0m\u001b[1;33m\u001b[0m\u001b[0m\n\u001b[0m\u001b[0;32m     15\u001b[0m         \u001b[0mdf\u001b[0m \u001b[1;33m=\u001b[0m \u001b[0mdf\u001b[0m\u001b[1;33m.\u001b[0m\u001b[0mdrop\u001b[0m\u001b[1;33m(\u001b[0m\u001b[1;33m[\u001b[0m\u001b[1;34m\"_id\"\u001b[0m\u001b[1;33m,\u001b[0m \u001b[1;34m\"date\"\u001b[0m\u001b[1;33m]\u001b[0m\u001b[1;33m,\u001b[0m \u001b[0maxis\u001b[0m \u001b[1;33m=\u001b[0m \u001b[1;36m1\u001b[0m\u001b[1;33m)\u001b[0m\u001b[1;33m.\u001b[0m\u001b[0mtranspose\u001b[0m\u001b[1;33m(\u001b[0m\u001b[1;33m)\u001b[0m\u001b[1;33m\u001b[0m\u001b[0m\n\u001b[0;32m     16\u001b[0m         \u001b[0mdf\u001b[0m\u001b[1;33m.\u001b[0m\u001b[0mto_csv\u001b[0m\u001b[1;33m(\u001b[0m\u001b[1;34m\"new_data_\"\u001b[0m \u001b[1;33m+\u001b[0m \u001b[0mstr\u001b[0m\u001b[1;33m(\u001b[0m\u001b[0mi\u001b[0m\u001b[1;33m)\u001b[0m \u001b[1;33m+\u001b[0m \u001b[1;34m\".csv\"\u001b[0m\u001b[1;33m)\u001b[0m\u001b[1;33m\u001b[0m\u001b[0m\n",
      "\u001b[1;32mC:\\ProgramData\\Anaconda3\\envs\\crypto_v1\\lib\\site-packages\\pandas\\core\\frame.py\u001b[0m in \u001b[0;36m__getitem__\u001b[1;34m(self, key)\u001b[0m\n\u001b[0;32m   1962\u001b[0m             \u001b[1;32mreturn\u001b[0m \u001b[0mself\u001b[0m\u001b[1;33m.\u001b[0m\u001b[0m_getitem_multilevel\u001b[0m\u001b[1;33m(\u001b[0m\u001b[0mkey\u001b[0m\u001b[1;33m)\u001b[0m\u001b[1;33m\u001b[0m\u001b[0m\n\u001b[0;32m   1963\u001b[0m         \u001b[1;32melse\u001b[0m\u001b[1;33m:\u001b[0m\u001b[1;33m\u001b[0m\u001b[0m\n\u001b[1;32m-> 1964\u001b[1;33m             \u001b[1;32mreturn\u001b[0m \u001b[0mself\u001b[0m\u001b[1;33m.\u001b[0m\u001b[0m_getitem_column\u001b[0m\u001b[1;33m(\u001b[0m\u001b[0mkey\u001b[0m\u001b[1;33m)\u001b[0m\u001b[1;33m\u001b[0m\u001b[0m\n\u001b[0m\u001b[0;32m   1965\u001b[0m \u001b[1;33m\u001b[0m\u001b[0m\n\u001b[0;32m   1966\u001b[0m     \u001b[1;32mdef\u001b[0m \u001b[0m_getitem_column\u001b[0m\u001b[1;33m(\u001b[0m\u001b[0mself\u001b[0m\u001b[1;33m,\u001b[0m \u001b[0mkey\u001b[0m\u001b[1;33m)\u001b[0m\u001b[1;33m:\u001b[0m\u001b[1;33m\u001b[0m\u001b[0m\n",
      "\u001b[1;32mC:\\ProgramData\\Anaconda3\\envs\\crypto_v1\\lib\\site-packages\\pandas\\core\\frame.py\u001b[0m in \u001b[0;36m_getitem_column\u001b[1;34m(self, key)\u001b[0m\n\u001b[0;32m   1969\u001b[0m         \u001b[1;31m# get column\u001b[0m\u001b[1;33m\u001b[0m\u001b[1;33m\u001b[0m\u001b[0m\n\u001b[0;32m   1970\u001b[0m         \u001b[1;32mif\u001b[0m \u001b[0mself\u001b[0m\u001b[1;33m.\u001b[0m\u001b[0mcolumns\u001b[0m\u001b[1;33m.\u001b[0m\u001b[0mis_unique\u001b[0m\u001b[1;33m:\u001b[0m\u001b[1;33m\u001b[0m\u001b[0m\n\u001b[1;32m-> 1971\u001b[1;33m             \u001b[1;32mreturn\u001b[0m \u001b[0mself\u001b[0m\u001b[1;33m.\u001b[0m\u001b[0m_get_item_cache\u001b[0m\u001b[1;33m(\u001b[0m\u001b[0mkey\u001b[0m\u001b[1;33m)\u001b[0m\u001b[1;33m\u001b[0m\u001b[0m\n\u001b[0m\u001b[0;32m   1972\u001b[0m \u001b[1;33m\u001b[0m\u001b[0m\n\u001b[0;32m   1973\u001b[0m         \u001b[1;31m# duplicate columns & possible reduce dimensionality\u001b[0m\u001b[1;33m\u001b[0m\u001b[1;33m\u001b[0m\u001b[0m\n",
      "\u001b[1;32mC:\\ProgramData\\Anaconda3\\envs\\crypto_v1\\lib\\site-packages\\pandas\\core\\generic.py\u001b[0m in \u001b[0;36m_get_item_cache\u001b[1;34m(self, item)\u001b[0m\n\u001b[0;32m   1643\u001b[0m         \u001b[0mres\u001b[0m \u001b[1;33m=\u001b[0m \u001b[0mcache\u001b[0m\u001b[1;33m.\u001b[0m\u001b[0mget\u001b[0m\u001b[1;33m(\u001b[0m\u001b[0mitem\u001b[0m\u001b[1;33m)\u001b[0m\u001b[1;33m\u001b[0m\u001b[0m\n\u001b[0;32m   1644\u001b[0m         \u001b[1;32mif\u001b[0m \u001b[0mres\u001b[0m \u001b[1;32mis\u001b[0m \u001b[1;32mNone\u001b[0m\u001b[1;33m:\u001b[0m\u001b[1;33m\u001b[0m\u001b[0m\n\u001b[1;32m-> 1645\u001b[1;33m             \u001b[0mvalues\u001b[0m \u001b[1;33m=\u001b[0m \u001b[0mself\u001b[0m\u001b[1;33m.\u001b[0m\u001b[0m_data\u001b[0m\u001b[1;33m.\u001b[0m\u001b[0mget\u001b[0m\u001b[1;33m(\u001b[0m\u001b[0mitem\u001b[0m\u001b[1;33m)\u001b[0m\u001b[1;33m\u001b[0m\u001b[0m\n\u001b[0m\u001b[0;32m   1646\u001b[0m             \u001b[0mres\u001b[0m \u001b[1;33m=\u001b[0m \u001b[0mself\u001b[0m\u001b[1;33m.\u001b[0m\u001b[0m_box_item_values\u001b[0m\u001b[1;33m(\u001b[0m\u001b[0mitem\u001b[0m\u001b[1;33m,\u001b[0m \u001b[0mvalues\u001b[0m\u001b[1;33m)\u001b[0m\u001b[1;33m\u001b[0m\u001b[0m\n\u001b[0;32m   1647\u001b[0m             \u001b[0mcache\u001b[0m\u001b[1;33m[\u001b[0m\u001b[0mitem\u001b[0m\u001b[1;33m]\u001b[0m \u001b[1;33m=\u001b[0m \u001b[0mres\u001b[0m\u001b[1;33m\u001b[0m\u001b[0m\n",
      "\u001b[1;32mC:\\ProgramData\\Anaconda3\\envs\\crypto_v1\\lib\\site-packages\\pandas\\core\\internals.py\u001b[0m in \u001b[0;36mget\u001b[1;34m(self, item, fastpath)\u001b[0m\n\u001b[0;32m   3588\u001b[0m \u001b[1;33m\u001b[0m\u001b[0m\n\u001b[0;32m   3589\u001b[0m             \u001b[1;32mif\u001b[0m \u001b[1;32mnot\u001b[0m \u001b[0misnull\u001b[0m\u001b[1;33m(\u001b[0m\u001b[0mitem\u001b[0m\u001b[1;33m)\u001b[0m\u001b[1;33m:\u001b[0m\u001b[1;33m\u001b[0m\u001b[0m\n\u001b[1;32m-> 3590\u001b[1;33m                 \u001b[0mloc\u001b[0m \u001b[1;33m=\u001b[0m \u001b[0mself\u001b[0m\u001b[1;33m.\u001b[0m\u001b[0mitems\u001b[0m\u001b[1;33m.\u001b[0m\u001b[0mget_loc\u001b[0m\u001b[1;33m(\u001b[0m\u001b[0mitem\u001b[0m\u001b[1;33m)\u001b[0m\u001b[1;33m\u001b[0m\u001b[0m\n\u001b[0m\u001b[0;32m   3591\u001b[0m             \u001b[1;32melse\u001b[0m\u001b[1;33m:\u001b[0m\u001b[1;33m\u001b[0m\u001b[0m\n\u001b[0;32m   3592\u001b[0m                 \u001b[0mindexer\u001b[0m \u001b[1;33m=\u001b[0m \u001b[0mnp\u001b[0m\u001b[1;33m.\u001b[0m\u001b[0marange\u001b[0m\u001b[1;33m(\u001b[0m\u001b[0mlen\u001b[0m\u001b[1;33m(\u001b[0m\u001b[0mself\u001b[0m\u001b[1;33m.\u001b[0m\u001b[0mitems\u001b[0m\u001b[1;33m)\u001b[0m\u001b[1;33m)\u001b[0m\u001b[1;33m[\u001b[0m\u001b[0misnull\u001b[0m\u001b[1;33m(\u001b[0m\u001b[0mself\u001b[0m\u001b[1;33m.\u001b[0m\u001b[0mitems\u001b[0m\u001b[1;33m)\u001b[0m\u001b[1;33m]\u001b[0m\u001b[1;33m\u001b[0m\u001b[0m\n",
      "\u001b[1;32mC:\\ProgramData\\Anaconda3\\envs\\crypto_v1\\lib\\site-packages\\pandas\\core\\indexes\\base.py\u001b[0m in \u001b[0;36mget_loc\u001b[1;34m(self, key, method, tolerance)\u001b[0m\n\u001b[0;32m   2442\u001b[0m                 \u001b[1;32mreturn\u001b[0m \u001b[0mself\u001b[0m\u001b[1;33m.\u001b[0m\u001b[0m_engine\u001b[0m\u001b[1;33m.\u001b[0m\u001b[0mget_loc\u001b[0m\u001b[1;33m(\u001b[0m\u001b[0mkey\u001b[0m\u001b[1;33m)\u001b[0m\u001b[1;33m\u001b[0m\u001b[0m\n\u001b[0;32m   2443\u001b[0m             \u001b[1;32mexcept\u001b[0m \u001b[0mKeyError\u001b[0m\u001b[1;33m:\u001b[0m\u001b[1;33m\u001b[0m\u001b[0m\n\u001b[1;32m-> 2444\u001b[1;33m                 \u001b[1;32mreturn\u001b[0m \u001b[0mself\u001b[0m\u001b[1;33m.\u001b[0m\u001b[0m_engine\u001b[0m\u001b[1;33m.\u001b[0m\u001b[0mget_loc\u001b[0m\u001b[1;33m(\u001b[0m\u001b[0mself\u001b[0m\u001b[1;33m.\u001b[0m\u001b[0m_maybe_cast_indexer\u001b[0m\u001b[1;33m(\u001b[0m\u001b[0mkey\u001b[0m\u001b[1;33m)\u001b[0m\u001b[1;33m)\u001b[0m\u001b[1;33m\u001b[0m\u001b[0m\n\u001b[0m\u001b[0;32m   2445\u001b[0m \u001b[1;33m\u001b[0m\u001b[0m\n\u001b[0;32m   2446\u001b[0m         \u001b[0mindexer\u001b[0m \u001b[1;33m=\u001b[0m \u001b[0mself\u001b[0m\u001b[1;33m.\u001b[0m\u001b[0mget_indexer\u001b[0m\u001b[1;33m(\u001b[0m\u001b[1;33m[\u001b[0m\u001b[0mkey\u001b[0m\u001b[1;33m]\u001b[0m\u001b[1;33m,\u001b[0m \u001b[0mmethod\u001b[0m\u001b[1;33m=\u001b[0m\u001b[0mmethod\u001b[0m\u001b[1;33m,\u001b[0m \u001b[0mtolerance\u001b[0m\u001b[1;33m=\u001b[0m\u001b[0mtolerance\u001b[0m\u001b[1;33m)\u001b[0m\u001b[1;33m\u001b[0m\u001b[0m\n",
      "\u001b[1;32mpandas\\_libs\\index.pyx\u001b[0m in \u001b[0;36mpandas._libs.index.IndexEngine.get_loc (pandas\\_libs\\index.c:5280)\u001b[1;34m()\u001b[0m\n",
      "\u001b[1;32mpandas\\_libs\\index.pyx\u001b[0m in \u001b[0;36mpandas._libs.index.IndexEngine.get_loc (pandas\\_libs\\index.c:5126)\u001b[1;34m()\u001b[0m\n",
      "\u001b[1;32mpandas\\_libs\\hashtable_class_helper.pxi\u001b[0m in \u001b[0;36mpandas._libs.hashtable.PyObjectHashTable.get_item (pandas\\_libs\\hashtable.c:20523)\u001b[1;34m()\u001b[0m\n",
      "\u001b[1;32mpandas\\_libs\\hashtable_class_helper.pxi\u001b[0m in \u001b[0;36mpandas._libs.hashtable.PyObjectHashTable.get_item (pandas\\_libs\\hashtable.c:20477)\u001b[1;34m()\u001b[0m\n",
      "\u001b[1;31mKeyError\u001b[0m: 'date'"
     ]
    }
   ],
   "source": [
    "data_loop()"
   ]
  },
  {
   "cell_type": "code",
   "execution_count": 31,
   "metadata": {},
   "outputs": [],
   "source": [
    "client = pymongo.MongoClient(\"mongodb://localhost:27017/\")\n",
    "db = client.aggregated\n",
    "collection = db.binance_aggregation"
   ]
  },
  {
   "cell_type": "code",
   "execution_count": 80,
   "metadata": {},
   "outputs": [],
   "source": [
    "now = datetime.datetime(2019, 2, 27, 0, 0, 0)\n",
    "\n",
    "findDate = now \n",
    "untilBackup = now + datetime.timedelta(minutes=- int(180))\n",
    "data = list(collection.find())"
   ]
  },
  {
   "cell_type": "code",
   "execution_count": 85,
   "metadata": {},
   "outputs": [],
   "source": [
    "df = json_normalize(data)"
   ]
  },
  {
   "cell_type": "code",
   "execution_count": 86,
   "metadata": {},
   "outputs": [],
   "source": [
    "df.index = df[\"date\"]"
   ]
  },
  {
   "cell_type": "code",
   "execution_count": 87,
   "metadata": {},
   "outputs": [],
   "source": [
    "df = df.drop([\"_id\", \"date\"], axis = 1).transpose()"
   ]
  },
  {
   "cell_type": "code",
   "execution_count": 88,
   "metadata": {},
   "outputs": [
    {
     "data": {
      "text/html": [
       "<div>\n",
       "<style>\n",
       "    .dataframe thead tr:only-child th {\n",
       "        text-align: right;\n",
       "    }\n",
       "\n",
       "    .dataframe thead th {\n",
       "        text-align: left;\n",
       "    }\n",
       "\n",
       "    .dataframe tbody tr th {\n",
       "        vertical-align: top;\n",
       "    }\n",
       "</style>\n",
       "<table border=\"1\" class=\"dataframe\">\n",
       "  <thead>\n",
       "    <tr style=\"text-align: right;\">\n",
       "      <th>date</th>\n",
       "      <th>2019-02-27 00:01:00</th>\n",
       "      <th>2019-02-27 00:03:00</th>\n",
       "      <th>2019-02-27 00:04:00</th>\n",
       "      <th>2019-02-27 00:06:00</th>\n",
       "      <th>2019-02-27 00:08:00</th>\n",
       "      <th>2019-02-27 00:10:00</th>\n",
       "      <th>2019-02-27 00:12:00</th>\n",
       "      <th>2019-02-27 00:14:00</th>\n",
       "      <th>2019-02-27 00:16:00</th>\n",
       "      <th>2019-02-27 00:18:00</th>\n",
       "      <th>...</th>\n",
       "      <th>2018-11-20 23:50:00</th>\n",
       "      <th>2018-11-20 23:51:00</th>\n",
       "      <th>2018-11-20 23:52:00</th>\n",
       "      <th>2018-11-20 23:53:00</th>\n",
       "      <th>2018-11-20 23:54:00</th>\n",
       "      <th>2018-11-20 23:55:00</th>\n",
       "      <th>2018-11-20 23:56:00</th>\n",
       "      <th>2018-11-20 23:57:00</th>\n",
       "      <th>2018-11-20 23:58:00</th>\n",
       "      <th>2018-11-20 23:59:00</th>\n",
       "    </tr>\n",
       "  </thead>\n",
       "  <tbody>\n",
       "    <tr>\n",
       "      <th>ADA.p</th>\n",
       "      <td>0.00001127</td>\n",
       "      <td>0.00001125</td>\n",
       "      <td>0.00001126</td>\n",
       "      <td>0.00001126</td>\n",
       "      <td>0.00001127</td>\n",
       "      <td>0.00001125</td>\n",
       "      <td>0.00001125</td>\n",
       "      <td>0.00001125</td>\n",
       "      <td>0.00001124</td>\n",
       "      <td>0.00001124</td>\n",
       "      <td>...</td>\n",
       "      <td>0.00001006</td>\n",
       "      <td>0.00001004</td>\n",
       "      <td>0.00001006</td>\n",
       "      <td>0.00001006</td>\n",
       "      <td>0.00001001</td>\n",
       "      <td>0.00001003</td>\n",
       "      <td>0.00001004</td>\n",
       "      <td>0.00001003</td>\n",
       "      <td>0.00001003</td>\n",
       "      <td>0.00001005</td>\n",
       "    </tr>\n",
       "    <tr>\n",
       "      <th>ADX.p</th>\n",
       "      <td>0.00003200</td>\n",
       "      <td>0.00003200</td>\n",
       "      <td>0.00003221</td>\n",
       "      <td>0.00003200</td>\n",
       "      <td>0.00003200</td>\n",
       "      <td>0.00003200</td>\n",
       "      <td>0.00003210</td>\n",
       "      <td>0.00003210</td>\n",
       "      <td>0.00003187</td>\n",
       "      <td>0.00003187</td>\n",
       "      <td>...</td>\n",
       "      <td>0.00002235</td>\n",
       "      <td>0.00002235</td>\n",
       "      <td>0.00002235</td>\n",
       "      <td>0.00002235</td>\n",
       "      <td>0.00002235</td>\n",
       "      <td>0.00002235</td>\n",
       "      <td>0.00002224</td>\n",
       "      <td>0.00002234</td>\n",
       "      <td>0.00002234</td>\n",
       "      <td>0.00002234</td>\n",
       "    </tr>\n",
       "    <tr>\n",
       "      <th>AE.p</th>\n",
       "      <td>0.00011340</td>\n",
       "      <td>0.00011340</td>\n",
       "      <td>0.00011320</td>\n",
       "      <td>0.00011320</td>\n",
       "      <td>0.00011340</td>\n",
       "      <td>0.00011290</td>\n",
       "      <td>0.00011300</td>\n",
       "      <td>0.00011340</td>\n",
       "      <td>0.00011330</td>\n",
       "      <td>0.00011330</td>\n",
       "      <td>...</td>\n",
       "      <td>0.00013640</td>\n",
       "      <td>0.00013700</td>\n",
       "      <td>0.00013700</td>\n",
       "      <td>0.00013700</td>\n",
       "      <td>0.00013700</td>\n",
       "      <td>0.00013700</td>\n",
       "      <td>0.00013700</td>\n",
       "      <td>0.00013600</td>\n",
       "      <td>0.00013620</td>\n",
       "      <td>0.00013650</td>\n",
       "    </tr>\n",
       "    <tr>\n",
       "      <th>AGI.p</th>\n",
       "      <td>0.00001219</td>\n",
       "      <td>0.00001215</td>\n",
       "      <td>0.00001206</td>\n",
       "      <td>0.00001206</td>\n",
       "      <td>0.00001206</td>\n",
       "      <td>0.00001206</td>\n",
       "      <td>0.00001214</td>\n",
       "      <td>0.00001214</td>\n",
       "      <td>0.00001214</td>\n",
       "      <td>0.00001214</td>\n",
       "      <td>...</td>\n",
       "      <td>NaN</td>\n",
       "      <td>NaN</td>\n",
       "      <td>NaN</td>\n",
       "      <td>NaN</td>\n",
       "      <td>NaN</td>\n",
       "      <td>NaN</td>\n",
       "      <td>NaN</td>\n",
       "      <td>NaN</td>\n",
       "      <td>NaN</td>\n",
       "      <td>NaN</td>\n",
       "    </tr>\n",
       "    <tr>\n",
       "      <th>AION.p</th>\n",
       "      <td>0.00003040</td>\n",
       "      <td>0.00003040</td>\n",
       "      <td>0.00003040</td>\n",
       "      <td>0.00003020</td>\n",
       "      <td>0.00003020</td>\n",
       "      <td>0.00003000</td>\n",
       "      <td>0.00003000</td>\n",
       "      <td>0.00003000</td>\n",
       "      <td>0.00003000</td>\n",
       "      <td>0.00002990</td>\n",
       "      <td>...</td>\n",
       "      <td>0.00003830</td>\n",
       "      <td>0.00003850</td>\n",
       "      <td>0.00003850</td>\n",
       "      <td>0.00003840</td>\n",
       "      <td>0.00003840</td>\n",
       "      <td>0.00003840</td>\n",
       "      <td>0.00003840</td>\n",
       "      <td>0.00003860</td>\n",
       "      <td>0.00003850</td>\n",
       "      <td>0.00003830</td>\n",
       "    </tr>\n",
       "  </tbody>\n",
       "</table>\n",
       "<p>5 rows × 142949 columns</p>\n",
       "</div>"
      ],
      "text/plain": [
       "date   2019-02-27 00:01:00 2019-02-27 00:03:00 2019-02-27 00:04:00  \\\n",
       "ADA.p           0.00001127          0.00001125          0.00001126   \n",
       "ADX.p           0.00003200          0.00003200          0.00003221   \n",
       "AE.p            0.00011340          0.00011340          0.00011320   \n",
       "AGI.p           0.00001219          0.00001215          0.00001206   \n",
       "AION.p          0.00003040          0.00003040          0.00003040   \n",
       "\n",
       "date   2019-02-27 00:06:00 2019-02-27 00:08:00 2019-02-27 00:10:00  \\\n",
       "ADA.p           0.00001126          0.00001127          0.00001125   \n",
       "ADX.p           0.00003200          0.00003200          0.00003200   \n",
       "AE.p            0.00011320          0.00011340          0.00011290   \n",
       "AGI.p           0.00001206          0.00001206          0.00001206   \n",
       "AION.p          0.00003020          0.00003020          0.00003000   \n",
       "\n",
       "date   2019-02-27 00:12:00 2019-02-27 00:14:00 2019-02-27 00:16:00  \\\n",
       "ADA.p           0.00001125          0.00001125          0.00001124   \n",
       "ADX.p           0.00003210          0.00003210          0.00003187   \n",
       "AE.p            0.00011300          0.00011340          0.00011330   \n",
       "AGI.p           0.00001214          0.00001214          0.00001214   \n",
       "AION.p          0.00003000          0.00003000          0.00003000   \n",
       "\n",
       "date   2019-02-27 00:18:00         ...         2018-11-20 23:50:00  \\\n",
       "ADA.p           0.00001124         ...                  0.00001006   \n",
       "ADX.p           0.00003187         ...                  0.00002235   \n",
       "AE.p            0.00011330         ...                  0.00013640   \n",
       "AGI.p           0.00001214         ...                         NaN   \n",
       "AION.p          0.00002990         ...                  0.00003830   \n",
       "\n",
       "date   2018-11-20 23:51:00 2018-11-20 23:52:00 2018-11-20 23:53:00  \\\n",
       "ADA.p           0.00001004          0.00001006          0.00001006   \n",
       "ADX.p           0.00002235          0.00002235          0.00002235   \n",
       "AE.p            0.00013700          0.00013700          0.00013700   \n",
       "AGI.p                  NaN                 NaN                 NaN   \n",
       "AION.p          0.00003850          0.00003850          0.00003840   \n",
       "\n",
       "date   2018-11-20 23:54:00 2018-11-20 23:55:00 2018-11-20 23:56:00  \\\n",
       "ADA.p           0.00001001          0.00001003          0.00001004   \n",
       "ADX.p           0.00002235          0.00002235          0.00002224   \n",
       "AE.p            0.00013700          0.00013700          0.00013700   \n",
       "AGI.p                  NaN                 NaN                 NaN   \n",
       "AION.p          0.00003840          0.00003840          0.00003840   \n",
       "\n",
       "date   2018-11-20 23:57:00 2018-11-20 23:58:00 2018-11-20 23:59:00  \n",
       "ADA.p           0.00001003          0.00001003          0.00001005  \n",
       "ADX.p           0.00002234          0.00002234          0.00002234  \n",
       "AE.p            0.00013600          0.00013620          0.00013650  \n",
       "AGI.p                  NaN                 NaN                 NaN  \n",
       "AION.p          0.00003860          0.00003850          0.00003830  \n",
       "\n",
       "[5 rows x 142949 columns]"
      ]
     },
     "execution_count": 88,
     "metadata": {},
     "output_type": "execute_result"
    }
   ],
   "source": [
    "df.head()"
   ]
  },
  {
   "cell_type": "code",
   "execution_count": 78,
   "metadata": {},
   "outputs": [
    {
     "data": {
      "text/plain": [
       "120.00000000000001"
      ]
     },
     "execution_count": 78,
     "metadata": {},
     "output_type": "execute_result"
    }
   ],
   "source": [
    "(df.columns[1]- df.columns[0]).total_seconds()"
   ]
  },
  {
   "cell_type": "code",
   "execution_count": 48,
   "metadata": {},
   "outputs": [
    {
     "data": {
      "text/plain": [
       "98.6111111111111"
      ]
     },
     "execution_count": 48,
     "metadata": {},
     "output_type": "execute_result"
    }
   ],
   "source": [
    "142000/60/24"
   ]
  },
  {
   "cell_type": "code",
   "execution_count": 79,
   "metadata": {},
   "outputs": [],
   "source": [
    "df_tot = df"
   ]
  },
  {
   "cell_type": "code",
   "execution_count": 89,
   "metadata": {},
   "outputs": [
    {
     "data": {
      "text/plain": [
       "(144, 142949)"
      ]
     },
     "execution_count": 89,
     "metadata": {},
     "output_type": "execute_result"
    }
   ],
   "source": [
    "df_tot.shape"
   ]
  },
  {
   "cell_type": "code",
   "execution_count": 90,
   "metadata": {},
   "outputs": [],
   "source": [
    "fd = df_tot.transpose()"
   ]
  },
  {
   "cell_type": "code",
   "execution_count": 91,
   "metadata": {},
   "outputs": [],
   "source": [
    "fd['date'] = fd.index"
   ]
  },
  {
   "cell_type": "code",
   "execution_count": 95,
   "metadata": {},
   "outputs": [],
   "source": [
    "fd = fd.sort_values(by='date')"
   ]
  },
  {
   "cell_type": "code",
   "execution_count": 94,
   "metadata": {},
   "outputs": [],
   "source": [
    "fd['date'] =pd.to_datetime(fd.date)"
   ]
  },
  {
   "cell_type": "code",
   "execution_count": 98,
   "metadata": {},
   "outputs": [],
   "source": [
    "fd = fd.drop(['date'], axis = 1)"
   ]
  },
  {
   "cell_type": "code",
   "execution_count": 99,
   "metadata": {},
   "outputs": [],
   "source": [
    "df_tot = fd.transpose()"
   ]
  },
  {
   "cell_type": "code",
   "execution_count": 100,
   "metadata": {},
   "outputs": [
    {
     "data": {
      "text/html": [
       "<div>\n",
       "<style>\n",
       "    .dataframe thead tr:only-child th {\n",
       "        text-align: right;\n",
       "    }\n",
       "\n",
       "    .dataframe thead th {\n",
       "        text-align: left;\n",
       "    }\n",
       "\n",
       "    .dataframe tbody tr th {\n",
       "        vertical-align: top;\n",
       "    }\n",
       "</style>\n",
       "<table border=\"1\" class=\"dataframe\">\n",
       "  <thead>\n",
       "    <tr style=\"text-align: right;\">\n",
       "      <th>date</th>\n",
       "      <th>2018-11-20 00:00:00</th>\n",
       "      <th>2018-11-20 00:01:00</th>\n",
       "      <th>2018-11-20 00:02:00</th>\n",
       "      <th>2018-11-20 00:03:00</th>\n",
       "      <th>2018-11-20 00:04:00</th>\n",
       "      <th>2018-11-20 00:05:00</th>\n",
       "      <th>2018-11-20 00:06:00</th>\n",
       "      <th>2018-11-20 00:07:00</th>\n",
       "      <th>2018-11-20 00:08:00</th>\n",
       "      <th>2018-11-20 00:09:00</th>\n",
       "      <th>...</th>\n",
       "      <th>2019-02-27 06:19:00</th>\n",
       "      <th>2019-02-27 06:20:00</th>\n",
       "      <th>2019-02-27 06:21:00</th>\n",
       "      <th>2019-02-27 06:22:00</th>\n",
       "      <th>2019-02-27 06:23:00</th>\n",
       "      <th>2019-02-27 06:24:00</th>\n",
       "      <th>2019-02-27 06:25:00</th>\n",
       "      <th>2019-02-27 06:26:00</th>\n",
       "      <th>2019-02-27 06:27:00</th>\n",
       "      <th>2019-02-27 06:28:00</th>\n",
       "    </tr>\n",
       "  </thead>\n",
       "  <tbody>\n",
       "    <tr>\n",
       "      <th>ADA.p</th>\n",
       "      <td>0.00001074</td>\n",
       "      <td>0.00001074</td>\n",
       "      <td>0.00001072</td>\n",
       "      <td>0.00001070</td>\n",
       "      <td>0.00001075</td>\n",
       "      <td>0.00001070</td>\n",
       "      <td>0.00001070</td>\n",
       "      <td>0.00001071</td>\n",
       "      <td>0.00001070</td>\n",
       "      <td>0.00001066</td>\n",
       "      <td>...</td>\n",
       "      <td>0.00001117</td>\n",
       "      <td>0.00001116</td>\n",
       "      <td>0.00001116</td>\n",
       "      <td>0.00001117</td>\n",
       "      <td>0.00001117</td>\n",
       "      <td>0.00001117</td>\n",
       "      <td>NaN</td>\n",
       "      <td>NaN</td>\n",
       "      <td>NaN</td>\n",
       "      <td>NaN</td>\n",
       "    </tr>\n",
       "    <tr>\n",
       "      <th>ADX.p</th>\n",
       "      <td>0.00002325</td>\n",
       "      <td>0.00002325</td>\n",
       "      <td>0.00002320</td>\n",
       "      <td>0.00002303</td>\n",
       "      <td>0.00002297</td>\n",
       "      <td>0.00002297</td>\n",
       "      <td>0.00002297</td>\n",
       "      <td>0.00002297</td>\n",
       "      <td>0.00002297</td>\n",
       "      <td>0.00002297</td>\n",
       "      <td>...</td>\n",
       "      <td>0.00003200</td>\n",
       "      <td>0.00003200</td>\n",
       "      <td>0.00003200</td>\n",
       "      <td>0.00003200</td>\n",
       "      <td>0.00003196</td>\n",
       "      <td>0.00003193</td>\n",
       "      <td>0.00003202</td>\n",
       "      <td>NaN</td>\n",
       "      <td>NaN</td>\n",
       "      <td>NaN</td>\n",
       "    </tr>\n",
       "    <tr>\n",
       "      <th>AE.p</th>\n",
       "      <td>0.00015220</td>\n",
       "      <td>0.00015220</td>\n",
       "      <td>0.00015170</td>\n",
       "      <td>0.00015120</td>\n",
       "      <td>0.00015150</td>\n",
       "      <td>0.00015160</td>\n",
       "      <td>0.00015160</td>\n",
       "      <td>0.00015040</td>\n",
       "      <td>0.00014990</td>\n",
       "      <td>0.00014990</td>\n",
       "      <td>...</td>\n",
       "      <td>0.00011300</td>\n",
       "      <td>0.00011290</td>\n",
       "      <td>0.00011290</td>\n",
       "      <td>0.00011310</td>\n",
       "      <td>0.00011310</td>\n",
       "      <td>0.00011310</td>\n",
       "      <td>0.00011300</td>\n",
       "      <td>NaN</td>\n",
       "      <td>NaN</td>\n",
       "      <td>NaN</td>\n",
       "    </tr>\n",
       "    <tr>\n",
       "      <th>AGI.p</th>\n",
       "      <td>NaN</td>\n",
       "      <td>NaN</td>\n",
       "      <td>NaN</td>\n",
       "      <td>NaN</td>\n",
       "      <td>NaN</td>\n",
       "      <td>NaN</td>\n",
       "      <td>NaN</td>\n",
       "      <td>NaN</td>\n",
       "      <td>NaN</td>\n",
       "      <td>NaN</td>\n",
       "      <td>...</td>\n",
       "      <td>0.00001208</td>\n",
       "      <td>0.00001208</td>\n",
       "      <td>0.00001208</td>\n",
       "      <td>0.00001206</td>\n",
       "      <td>0.00001206</td>\n",
       "      <td>0.00001210</td>\n",
       "      <td>0.00001210</td>\n",
       "      <td>0.00001210</td>\n",
       "      <td>0.00001210</td>\n",
       "      <td>NaN</td>\n",
       "    </tr>\n",
       "    <tr>\n",
       "      <th>AION.p</th>\n",
       "      <td>0.00004170</td>\n",
       "      <td>0.00004180</td>\n",
       "      <td>0.00004180</td>\n",
       "      <td>0.00004180</td>\n",
       "      <td>0.00004180</td>\n",
       "      <td>0.00004130</td>\n",
       "      <td>0.00004140</td>\n",
       "      <td>0.00004160</td>\n",
       "      <td>0.00004150</td>\n",
       "      <td>0.00004150</td>\n",
       "      <td>...</td>\n",
       "      <td>0.00003140</td>\n",
       "      <td>0.00003150</td>\n",
       "      <td>0.00003130</td>\n",
       "      <td>0.00003140</td>\n",
       "      <td>0.00003140</td>\n",
       "      <td>0.00003140</td>\n",
       "      <td>0.00003120</td>\n",
       "      <td>NaN</td>\n",
       "      <td>NaN</td>\n",
       "      <td>NaN</td>\n",
       "    </tr>\n",
       "  </tbody>\n",
       "</table>\n",
       "<p>5 rows × 142949 columns</p>\n",
       "</div>"
      ],
      "text/plain": [
       "date   2018-11-20 00:00:00 2018-11-20 00:01:00 2018-11-20 00:02:00  \\\n",
       "ADA.p           0.00001074          0.00001074          0.00001072   \n",
       "ADX.p           0.00002325          0.00002325          0.00002320   \n",
       "AE.p            0.00015220          0.00015220          0.00015170   \n",
       "AGI.p                  NaN                 NaN                 NaN   \n",
       "AION.p          0.00004170          0.00004180          0.00004180   \n",
       "\n",
       "date   2018-11-20 00:03:00 2018-11-20 00:04:00 2018-11-20 00:05:00  \\\n",
       "ADA.p           0.00001070          0.00001075          0.00001070   \n",
       "ADX.p           0.00002303          0.00002297          0.00002297   \n",
       "AE.p            0.00015120          0.00015150          0.00015160   \n",
       "AGI.p                  NaN                 NaN                 NaN   \n",
       "AION.p          0.00004180          0.00004180          0.00004130   \n",
       "\n",
       "date   2018-11-20 00:06:00 2018-11-20 00:07:00 2018-11-20 00:08:00  \\\n",
       "ADA.p           0.00001070          0.00001071          0.00001070   \n",
       "ADX.p           0.00002297          0.00002297          0.00002297   \n",
       "AE.p            0.00015160          0.00015040          0.00014990   \n",
       "AGI.p                  NaN                 NaN                 NaN   \n",
       "AION.p          0.00004140          0.00004160          0.00004150   \n",
       "\n",
       "date   2018-11-20 00:09:00         ...         2019-02-27 06:19:00  \\\n",
       "ADA.p           0.00001066         ...                  0.00001117   \n",
       "ADX.p           0.00002297         ...                  0.00003200   \n",
       "AE.p            0.00014990         ...                  0.00011300   \n",
       "AGI.p                  NaN         ...                  0.00001208   \n",
       "AION.p          0.00004150         ...                  0.00003140   \n",
       "\n",
       "date   2019-02-27 06:20:00 2019-02-27 06:21:00 2019-02-27 06:22:00  \\\n",
       "ADA.p           0.00001116          0.00001116          0.00001117   \n",
       "ADX.p           0.00003200          0.00003200          0.00003200   \n",
       "AE.p            0.00011290          0.00011290          0.00011310   \n",
       "AGI.p           0.00001208          0.00001208          0.00001206   \n",
       "AION.p          0.00003150          0.00003130          0.00003140   \n",
       "\n",
       "date   2019-02-27 06:23:00 2019-02-27 06:24:00 2019-02-27 06:25:00  \\\n",
       "ADA.p           0.00001117          0.00001117                 NaN   \n",
       "ADX.p           0.00003196          0.00003193          0.00003202   \n",
       "AE.p            0.00011310          0.00011310          0.00011300   \n",
       "AGI.p           0.00001206          0.00001210          0.00001210   \n",
       "AION.p          0.00003140          0.00003140          0.00003120   \n",
       "\n",
       "date   2019-02-27 06:26:00 2019-02-27 06:27:00 2019-02-27 06:28:00  \n",
       "ADA.p                  NaN                 NaN                 NaN  \n",
       "ADX.p                  NaN                 NaN                 NaN  \n",
       "AE.p                   NaN                 NaN                 NaN  \n",
       "AGI.p           0.00001210          0.00001210                 NaN  \n",
       "AION.p                 NaN                 NaN                 NaN  \n",
       "\n",
       "[5 rows x 142949 columns]"
      ]
     },
     "execution_count": 100,
     "metadata": {},
     "output_type": "execute_result"
    }
   ],
   "source": [
    "df_tot.head()"
   ]
  },
  {
   "cell_type": "code",
   "execution_count": 114,
   "metadata": {},
   "outputs": [],
   "source": [
    "import matplotlib.pyplot as plt"
   ]
  },
  {
   "cell_type": "code",
   "execution_count": 134,
   "metadata": {},
   "outputs": [
    {
     "data": {
      "text/plain": [
       "0"
      ]
     },
     "execution_count": 134,
     "metadata": {},
     "output_type": "execute_result"
    }
   ],
   "source": [
    "df_filtered.isnull().sum().sum()"
   ]
  },
  {
   "cell_type": "code",
   "execution_count": 132,
   "metadata": {},
   "outputs": [],
   "source": [
    "df_filtered = df_filtered[df_filtered.isnull().sum(axis=1) < 30]"
   ]
  },
  {
   "cell_type": "code",
   "execution_count": 133,
   "metadata": {},
   "outputs": [
    {
     "data": {
      "text/plain": [
       "[<matplotlib.lines.Line2D at 0x1fb30af3e48>]"
      ]
     },
     "execution_count": 133,
     "metadata": {},
     "output_type": "execute_result"
    },
    {
     "data": {
      "image/png": "[encoded data removed]",
      "text/plain": [
       "<Figure size 432x288 with 1 Axes>"
      ]
     },
     "metadata": {
      "needs_background": "light"
     },
     "output_type": "display_data"
    }
   ],
   "source": [
    "plt.plot(df_filtered.isnull().sum())"
   ]
  },
  {
   "cell_type": "code",
   "execution_count": 122,
   "metadata": {},
   "outputs": [],
   "source": [
    "fora= list(df_tot.index[df_tot.iloc[:,0].isnull()])"
   ]
  },
  {
   "cell_type": "code",
   "execution_count": 124,
   "metadata": {},
   "outputs": [],
   "source": [
    "df_filtered = df_tot[~df_tot.index.isin(fora)]"
   ]
  },
  {
   "cell_type": "code",
   "execution_count": 129,
   "metadata": {},
   "outputs": [],
   "source": [
    "df_filtered = df_filtered.iloc[:, :-5]"
   ]
  },
  {
   "cell_type": "code",
   "execution_count": 137,
   "metadata": {},
   "outputs": [],
   "source": [
    "df_filtered.iloc[:, :47648].to_csv('new_data_01.csv')"
   ]
  },
  {
   "cell_type": "code",
   "execution_count": 138,
   "metadata": {},
   "outputs": [],
   "source": [
    "df_filtered.iloc[:, 47648:int(2*47648)].to_csv('new_data_02.csv')\n",
    "df_filtered.iloc[:, int(2*47648):].to_csv('new_data_03.csv')"
   ]
  },
  {
   "cell_type": "code",
   "execution_count": null,
   "metadata": {},
   "outputs": [],
   "source": []
  }
 ],
 "metadata": {
  "kernelspec": {
   "display_name": "Python 3",
   "language": "python",
   "name": "python3"
  },
  "language_info": {
   "codemirror_mode": {
    "name": "ipython",
    "version": 3
   },
   "file_extension": ".py",
   "mimetype": "text/x-python",
   "name": "python",
   "nbconvert_exporter": "python",
   "pygments_lexer": "ipython3",
   "version": "3.6.6"
  }
 },
 "nbformat": 4,
 "nbformat_minor": 2
}
