{
 "cells": [
  {
   "cell_type": "code",
   "execution_count": 1,
   "metadata": {},
   "outputs": [],
   "source": [
    "import numpy as np\n",
    "import pandas as pd\n",
    "import os"
   ]
  },
  {
   "cell_type": "code",
   "execution_count": 2,
   "metadata": {},
   "outputs": [],
   "source": [
    "# Constants\n",
    "seq_len = 1000\n",
    "step = 40\n",
    "forecast_len = 2"
   ]
  },
  {
   "cell_type": "code",
   "execution_count": 3,
   "metadata": {},
   "outputs": [],
   "source": [
    "dfo = pd.read_csv(os.path.join('21_coins_tot.csv'), index_col = 0)"
   ]
  },
  {
   "cell_type": "code",
   "execution_count": 23,
   "metadata": {},
   "outputs": [],
   "source": [
    "dfref = pd.read_csv(os.path.join('21coins_ref2.csv'), index_col = 0)"
   ]
  },
  {
   "cell_type": "code",
   "execution_count": 7,
   "metadata": {},
   "outputs": [],
   "source": [
    "rows = seq_len*len(dfo.index)\n",
    "cols = int(dfo.shape[1]/seq_len)\n",
    "df = dfo.iloc[:,:seq_len*cols].values.reshape((rows, cols), order = 'F')\n",
    "one_pass = df.shape[1]"
   ]
  },
  {
   "cell_type": "code",
   "execution_count": 8,
   "metadata": {},
   "outputs": [],
   "source": [
    "for i in range(1, int(seq_len/step)):\n",
    "    dftemp = dfo.iloc[:,i*step:]\n",
    "    rows = seq_len*len(dftemp.index)\n",
    "    cols = int(dftemp.shape[1]/seq_len)\n",
    "    temp = dftemp.iloc[:, :seq_len*cols].values.reshape((rows, cols), order = 'F')\n",
    "    df = np.concatenate((df, temp), axis = 1)"
   ]
  },
  {
   "cell_type": "code",
   "execution_count": 9,
   "metadata": {},
   "outputs": [
    {
     "data": {
      "text/plain": [
       "(189000, 8708)"
      ]
     },
     "execution_count": 9,
     "metadata": {},
     "output_type": "execute_result"
    }
   ],
   "source": [
    "df.shape"
   ]
  },
  {
   "cell_type": "code",
   "execution_count": 24,
   "metadata": {},
   "outputs": [],
   "source": [
    "rows = seq_len*len(dfref.index)\n",
    "cols = int(dfref.shape[1]/seq_len)\n",
    "ref = dfref.iloc[:,:seq_len*cols].values.reshape((rows, cols), order = 'F')"
   ]
  },
  {
   "cell_type": "code",
   "execution_count": 25,
   "metadata": {},
   "outputs": [
    {
     "data": {
      "text/plain": [
       "(189000, 20)"
      ]
     },
     "execution_count": 25,
     "metadata": {},
     "output_type": "execute_result"
    }
   ],
   "source": [
    "ref.shape"
   ]
  },
  {
   "cell_type": "code",
   "execution_count": 12,
   "metadata": {},
   "outputs": [],
   "source": [
    "percentages = [.4, .3, .2, .1,.0]\n",
    "def find_results(ref, df, dfo, percentages, amount, forecast_len):\n",
    "    num_passes = ref.shape[1]\n",
    "    am = []\n",
    "    cors = []\n",
    "    for index, col in enumerate(ref.T):\n",
    "        print(\"This is pass \" + str(index+1) + \" of \" + str(num_passes))\n",
    "        correls = [np.corrcoef(df[:,a], col)[1,0] for a in range(df.shape[1])]\n",
    "        max_corr = np.argmax(correls)\n",
    "        cor = max(correls)\n",
    "        print(cor)\n",
    "        cors.append(cor)\n",
    "        place = int(max_corr/one_pass)\n",
    "        shift = max_corr % one_pass\n",
    "        origin = place*seq_len + shift\n",
    "        target = index\n",
    "        results = pd.concat([dfo.iloc[3::9, [origin, origin+forecast_len]], \n",
    "                     dfref.iloc[3::9, [target, target+forecast_len]]], axis = 1)\n",
    "        dif1 = results.iloc[:, :2].pct_change(axis = \"columns\")\n",
    "        dif2 = results.iloc[:, 2:].pct_change(axis = \"columns\")\n",
    "        results['dif1'] = dif1.iloc[:,1]\n",
    "        results['dif2'] = dif2.iloc[:,1]\n",
    "        results = results.sort_values(['dif1'], ascending = False)\n",
    "        for i, per in enumerate(percentages):\n",
    "            amount += amount * per * results['dif2'][i]\n",
    "        am.append(amount)\n",
    "    \n",
    "    return amount, am, cors"
   ]
  },
  {
   "cell_type": "code",
   "execution_count": 26,
   "metadata": {},
   "outputs": [
    {
     "name": "stdout",
     "output_type": "stream",
     "text": [
      "This is pass 1 of 20\n",
      "0.3605653216073607\n",
      "This is pass 2 of 20\n",
      "0.28410998818791616\n",
      "This is pass 3 of 20\n",
      "0.4171591783318265\n",
      "This is pass 4 of 20\n",
      "0.347535172785306\n",
      "This is pass 5 of 20\n",
      "0.2750248648576311\n",
      "This is pass 6 of 20\n",
      "0.3125905377651117\n",
      "This is pass 7 of 20\n",
      "0.4701706469134972\n",
      "This is pass 8 of 20\n",
      "0.5263608242056246\n",
      "This is pass 9 of 20\n",
      "0.4377212633552753\n",
      "This is pass 10 of 20\n",
      "0.4317228732681853\n",
      "This is pass 11 of 20\n",
      "0.353157829632141\n",
      "This is pass 12 of 20\n",
      "0.3854402164558553\n",
      "This is pass 13 of 20\n",
      "0.2955358662217207\n",
      "This is pass 14 of 20\n",
      "0.33010113043104566\n",
      "This is pass 15 of 20\n",
      "0.40074981409676685\n",
      "This is pass 16 of 20\n",
      "0.28436895511378313\n",
      "This is pass 17 of 20\n",
      "0.3161169641157887\n",
      "This is pass 18 of 20\n",
      "0.41801048709009186\n",
      "This is pass 19 of 20\n",
      "0.2970016904315824\n",
      "This is pass 20 of 20\n",
      "0.3382566511822137\n"
     ]
    }
   ],
   "source": [
    "amount = 100\n",
    "total_amount, partial_amounts, cors = find_results(ref, df, dfo, percentages, amount, forecast_len)"
   ]
  },
  {
   "cell_type": "code",
   "execution_count": 27,
   "metadata": {},
   "outputs": [
    {
     "data": {
      "text/plain": [
       "98.48590902136489"
      ]
     },
     "execution_count": 27,
     "metadata": {},
     "output_type": "execute_result"
    }
   ],
   "source": [
    "total_amount"
   ]
  },
  {
   "cell_type": "code",
   "execution_count": 16,
   "metadata": {},
   "outputs": [],
   "source": [
    "import matplotlib.pyplot as plt"
   ]
  },
  {
   "cell_type": "code",
   "execution_count": 17,
   "metadata": {},
   "outputs": [
    {
     "data": {
      "text/plain": [
       "[<matplotlib.lines.Line2D at 0x245022a9c18>]"
      ]
     },
     "execution_count": 17,
     "metadata": {},
     "output_type": "execute_result"
    },
    {
     "data": {
      "image/png": "[encoded data removed]",
      "text/plain": [
       "<Figure size 432x288 with 1 Axes>"
      ]
     },
     "metadata": {
      "needs_background": "light"
     },
     "output_type": "display_data"
    }
   ],
   "source": [
    "plt.plot(partial_amounts)"
   ]
  },
  {
   "cell_type": "code",
   "execution_count": 28,
   "metadata": {},
   "outputs": [
    {
     "data": {
      "image/png": "[encoded data removed]",
      "text/plain": [
       "<Figure size 432x288 with 2 Axes>"
      ]
     },
     "metadata": {
      "needs_background": "light"
     },
     "output_type": "display_data"
    }
   ],
   "source": [
    "fig, ax1 = plt.subplots()\n",
    "\n",
    "ax2 = ax1.twinx()\n",
    "ax1.plot(partial_amounts, 'g-')\n",
    "ax2.plot(cors, 'b-')\n",
    "\n",
    "ax1.set_xlabel('Comparison')\n",
    "ax1.set_ylabel('Results', color='g')\n",
    "ax2.set_ylabel('Correlations', color='b')\n",
    "\n",
    "plt.show()"
   ]
  },
  {
   "cell_type": "code",
   "execution_count": null,
   "metadata": {},
   "outputs": [
    {
     "data": {
      "text/plain": [
       "[<matplotlib.lines.Line2D at 0x2450289b828>]"
      ]
     },
     "execution_count": 34,
     "metadata": {},
     "output_type": "execute_result"
    }
   ],
   "source": [
    "plt.plot(dfref.loc['ETH.p'])"
   ]
  },
  {
   "cell_type": "code",
   "execution_count": 33,
   "metadata": {},
   "outputs": [
    {
     "data": {
      "text/plain": [
       "['ADA.h',\n",
       " 'ADA.l',\n",
       " 'ADA.o',\n",
       " 'ADA.p',\n",
       " 'ADA.qv',\n",
       " 'ADA.t',\n",
       " 'ADA.tbv',\n",
       " 'ADA.tqv',\n",
       " 'ADA.v',\n",
       " 'BAT.h',\n",
       " 'BAT.l',\n",
       " 'BAT.o',\n",
       " 'BAT.p',\n",
       " 'BAT.qv',\n",
       " 'BAT.t',\n",
       " 'BAT.tbv',\n",
       " 'BAT.tqv',\n",
       " 'BAT.v',\n",
       " 'BNB.h',\n",
       " 'BNB.l',\n",
       " 'BNB.o',\n",
       " 'BNB.p',\n",
       " 'BNB.qv',\n",
       " 'BNB.t',\n",
       " 'BNB.tbv',\n",
       " 'BNB.tqv',\n",
       " 'BNB.v',\n",
       " 'DASH.h',\n",
       " 'DASH.l',\n",
       " 'DASH.o',\n",
       " 'DASH.p',\n",
       " 'DASH.qv',\n",
       " 'DASH.t',\n",
       " 'DASH.tbv',\n",
       " 'DASH.tqv',\n",
       " 'DASH.v',\n",
       " 'EOS.h',\n",
       " 'EOS.l',\n",
       " 'EOS.o',\n",
       " 'EOS.p',\n",
       " 'EOS.qv',\n",
       " 'EOS.t',\n",
       " 'EOS.tbv',\n",
       " 'EOS.tqv',\n",
       " 'EOS.v',\n",
       " 'ETC.h',\n",
       " 'ETC.l',\n",
       " 'ETC.o',\n",
       " 'ETC.p',\n",
       " 'ETC.qv',\n",
       " 'ETC.t',\n",
       " 'ETC.tbv',\n",
       " 'ETC.tqv',\n",
       " 'ETC.v',\n",
       " 'ETH.h',\n",
       " 'ETH.l',\n",
       " 'ETH.o',\n",
       " 'ETH.p',\n",
       " 'ETH.qv',\n",
       " 'ETH.t',\n",
       " 'ETH.tbv',\n",
       " 'ETH.tqv',\n",
       " 'ETH.v',\n",
       " 'IOTA.h',\n",
       " 'IOTA.l',\n",
       " 'IOTA.o',\n",
       " 'IOTA.p',\n",
       " 'IOTA.qv',\n",
       " 'IOTA.t',\n",
       " 'IOTA.tbv',\n",
       " 'IOTA.tqv',\n",
       " 'IOTA.v',\n",
       " 'LTC.h',\n",
       " 'LTC.l',\n",
       " 'LTC.o',\n",
       " 'LTC.p',\n",
       " 'LTC.qv',\n",
       " 'LTC.t',\n",
       " 'LTC.tbv',\n",
       " 'LTC.tqv',\n",
       " 'LTC.v',\n",
       " 'NEO.h',\n",
       " 'NEO.l',\n",
       " 'NEO.o',\n",
       " 'NEO.p',\n",
       " 'NEO.qv',\n",
       " 'NEO.t',\n",
       " 'NEO.tbv',\n",
       " 'NEO.tqv',\n",
       " 'NEO.v',\n",
       " 'OMG.h',\n",
       " 'OMG.l',\n",
       " 'OMG.o',\n",
       " 'OMG.p',\n",
       " 'OMG.qv',\n",
       " 'OMG.t',\n",
       " 'OMG.tbv',\n",
       " 'OMG.tqv',\n",
       " 'OMG.v',\n",
       " 'QTUM.h',\n",
       " 'QTUM.l',\n",
       " 'QTUM.o',\n",
       " 'QTUM.p',\n",
       " 'QTUM.qv',\n",
       " 'QTUM.t',\n",
       " 'QTUM.tbv',\n",
       " 'QTUM.tqv',\n",
       " 'QTUM.v',\n",
       " 'STRAT.h',\n",
       " 'STRAT.l',\n",
       " 'STRAT.o',\n",
       " 'STRAT.p',\n",
       " 'STRAT.qv',\n",
       " 'STRAT.t',\n",
       " 'STRAT.tbv',\n",
       " 'STRAT.tqv',\n",
       " 'STRAT.v',\n",
       " 'TRX.h',\n",
       " 'TRX.l',\n",
       " 'TRX.o',\n",
       " 'TRX.p',\n",
       " 'TRX.qv',\n",
       " 'TRX.t',\n",
       " 'TRX.tbv',\n",
       " 'TRX.tqv',\n",
       " 'TRX.v',\n",
       " 'TUSD.h',\n",
       " 'TUSD.l',\n",
       " 'TUSD.o',\n",
       " 'TUSD.p',\n",
       " 'TUSD.qv',\n",
       " 'TUSD.t',\n",
       " 'TUSD.tbv',\n",
       " 'TUSD.tqv',\n",
       " 'TUSD.v',\n",
       " 'XLM.h',\n",
       " 'XLM.l',\n",
       " 'XLM.o',\n",
       " 'XLM.p',\n",
       " 'XLM.qv',\n",
       " 'XLM.t',\n",
       " 'XLM.tbv',\n",
       " 'XLM.tqv',\n",
       " 'XLM.v',\n",
       " 'XMR.h',\n",
       " 'XMR.l',\n",
       " 'XMR.o',\n",
       " 'XMR.p',\n",
       " 'XMR.qv',\n",
       " 'XMR.t',\n",
       " 'XMR.tbv',\n",
       " 'XMR.tqv',\n",
       " 'XMR.v',\n",
       " 'XRP.h',\n",
       " 'XRP.l',\n",
       " 'XRP.o',\n",
       " 'XRP.p',\n",
       " 'XRP.qv',\n",
       " 'XRP.t',\n",
       " 'XRP.tbv',\n",
       " 'XRP.tqv',\n",
       " 'XRP.v',\n",
       " 'XVG.h',\n",
       " 'XVG.l',\n",
       " 'XVG.o',\n",
       " 'XVG.p',\n",
       " 'XVG.qv',\n",
       " 'XVG.t',\n",
       " 'XVG.tbv',\n",
       " 'XVG.tqv',\n",
       " 'XVG.v',\n",
       " 'ZEC.h',\n",
       " 'ZEC.l',\n",
       " 'ZEC.o',\n",
       " 'ZEC.p',\n",
       " 'ZEC.qv',\n",
       " 'ZEC.t',\n",
       " 'ZEC.tbv',\n",
       " 'ZEC.tqv',\n",
       " 'ZEC.v',\n",
       " 'ZRX.h',\n",
       " 'ZRX.l',\n",
       " 'ZRX.o',\n",
       " 'ZRX.p',\n",
       " 'ZRX.qv',\n",
       " 'ZRX.t',\n",
       " 'ZRX.tbv',\n",
       " 'ZRX.tqv',\n",
       " 'ZRX.v']"
      ]
     },
     "execution_count": 33,
     "metadata": {},
     "output_type": "execute_result"
    }
   ],
   "source": [
    "list(dfref.index)"
   ]
  },
  {
   "cell_type": "code",
   "execution_count": null,
   "metadata": {},
   "outputs": [],
   "source": []
  }
 ],
 "metadata": {
  "kernelspec": {
   "display_name": "Python 3",
   "language": "python",
   "name": "python3"
  },
  "language_info": {
   "codemirror_mode": {
    "name": "ipython",
    "version": 3
   },
   "file_extension": ".py",
   "mimetype": "text/x-python",
   "name": "python",
   "nbconvert_exporter": "python",
   "pygments_lexer": "ipython3",
   "version": "3.6.6"
  }
 },
 "nbformat": 4,
 "nbformat_minor": 2
}
